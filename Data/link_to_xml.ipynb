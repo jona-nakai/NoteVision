{
 "cells": [
  {
   "cell_type": "code",
   "execution_count": 1,
   "metadata": {},
   "outputs": [],
   "source": [
    "import pandas as pd\n",
    "import requests\n",
    "import os"
   ]
  },
  {
   "cell_type": "code",
   "execution_count": 4,
   "metadata": {},
   "outputs": [],
   "source": [
    "with open('xml_links.txt', 'r') as xml_links:\n",
    "    for line in xml_links:\n",
    "        url = line.strip()\n",
    "        if not url:\n",
    "            continue\n",
    "        \n",
    "        # Fetch the XML content from the URL\n",
    "        response = requests.get(url)\n",
    "        text = response.text\n",
    "        \n",
    "        # Extract the file name from the URL\n",
    "        file_name = url.split('/')[-1]\n",
    "        # If the file extension is .musicxml, replace it with .xml\n",
    "        if file_name.endswith('.musicxml'):\n",
    "            file_name = file_name.replace('.musicxml', '.xml')\n",
    "        \n",
    "        # Determine the folder based on the first character of the base name\n",
    "        base_name = os.path.splitext(file_name)[0]\n",
    "        first_char = base_name[0] if base_name else '#'\n",
    "        if first_char.isdigit():\n",
    "            folder = '0-9'\n",
    "        elif first_char.isalpha() and first_char.upper() in \"ABCDEFGHIJKLMNOPQRSTUVWY\":\n",
    "            folder = first_char.upper()\n",
    "        else:\n",
    "            folder = '#'\n",
    "        \n",
    "        # Construct the folder path and ensure it exists\n",
    "        folder_path = os.path.join(\"XML_Data\", folder)\n",
    "        os.makedirs(folder_path, exist_ok=True)\n",
    "        \n",
    "        # Construct the full file path where the XML will be saved\n",
    "        file_path = os.path.join(folder_path, file_name)\n",
    "        \n",
    "        # Write the XML content to the file\n",
    "        with open(file_path, 'w', encoding='utf-8') as file:\n",
    "            file.write(text)"
   ]
  },
  {
   "cell_type": "code",
   "execution_count": 4,
   "metadata": {},
   "outputs": [
    {
     "data": {
      "text/plain": [
       "766"
      ]
     },
     "execution_count": 4,
     "metadata": {},
     "output_type": "execute_result"
    }
   ],
   "source": [
    "directory_path = 'XML_Data'\n",
    "\n",
    "file_count = 0\n",
    "# Walk through all directories and files in the directory\n",
    "for root, dirs, files in os.walk(directory_path):\n",
    "    file_count += len(files)\n",
    "\n",
    "file_count"
   ]
  },
  {
   "cell_type": "code",
   "execution_count": null,
   "metadata": {},
   "outputs": [],
   "source": []
  }
 ],
 "metadata": {
  "kernelspec": {
   "display_name": "ds",
   "language": "python",
   "name": "python3"
  },
  "language_info": {
   "codemirror_mode": {
    "name": "ipython",
    "version": 3
   },
   "file_extension": ".py",
   "mimetype": "text/x-python",
   "name": "python",
   "nbconvert_exporter": "python",
   "pygments_lexer": "ipython3",
   "version": "3.12.0"
  }
 },
 "nbformat": 4,
 "nbformat_minor": 2
}
