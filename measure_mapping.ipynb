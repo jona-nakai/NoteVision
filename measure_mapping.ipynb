{
 "cells": [
  {
   "cell_type": "code",
   "execution_count": 7,
   "metadata": {},
   "outputs": [],
   "source": [
    "import json\n",
    "import os\n",
    "from pathlib import Path\n",
    "import matplotlib.pyplot as plt\n",
    "import matplotlib.image as mpimg"
   ]
  },
  {
   "cell_type": "code",
   "execution_count": 13,
   "metadata": {},
   "outputs": [
    {
     "ename": "KeyError",
     "evalue": "'SONG_NAME'",
     "output_type": "error",
     "traceback": [
      "\u001b[0;31m---------------------------------------------------------------------------\u001b[0m",
      "\u001b[0;31mKeyError\u001b[0m                                  Traceback (most recent call last)",
      "Cell \u001b[0;32mIn[13], line 6\u001b[0m\n\u001b[1;32m      2\u001b[0m     measure_dict \u001b[38;5;241m=\u001b[39m json\u001b[38;5;241m.\u001b[39mload(f)\n\u001b[1;32m      4\u001b[0m song_name \u001b[38;5;241m=\u001b[39m \u001b[38;5;124m'\u001b[39m\u001b[38;5;124mSONG_NAME\u001b[39m\u001b[38;5;124m'\u001b[39m\n\u001b[0;32m----> 6\u001b[0m abc_length \u001b[38;5;241m=\u001b[39m \u001b[38;5;28mlen\u001b[39m(\u001b[43mmeasure_dict\u001b[49m\u001b[43m[\u001b[49m\u001b[43msong_name\u001b[49m\u001b[43m]\u001b[49m)\n\u001b[1;32m      7\u001b[0m directory \u001b[38;5;241m=\u001b[39m Path(\u001b[38;5;124mf\u001b[39m\u001b[38;5;124m'\u001b[39m\u001b[38;5;124mmeasures_pngs/\u001b[39m\u001b[38;5;132;01m{\u001b[39;00msong_name\u001b[38;5;132;01m}\u001b[39;00m\u001b[38;5;124m/final_measures\u001b[39m\u001b[38;5;124m'\u001b[39m)\n\u001b[1;32m      8\u001b[0m png_length \u001b[38;5;241m=\u001b[39m \u001b[38;5;28mlen\u001b[39m([f \u001b[38;5;28;01mfor\u001b[39;00m f \u001b[38;5;129;01min\u001b[39;00m directory\u001b[38;5;241m.\u001b[39miterdir() \u001b[38;5;28;01mif\u001b[39;00m f\u001b[38;5;241m.\u001b[39mis_file()])\n",
      "\u001b[0;31mKeyError\u001b[0m: 'SONG_NAME'"
     ]
    }
   ],
   "source": [
    "with open('Data/measures.json', 'r') as f:\n",
    "    measure_dict = json.load(f)\n",
    "\n",
    "song_name = 'SONG_NAME'\n",
    "\n",
    "abc_length = len(measure_dict[song_name])\n",
    "directory = Path(f'measures_pngs/{song_name}/final_measures')\n",
    "png_length = len([f for f in directory.iterdir() if f.is_file()])\n",
    "\n",
    "png_measures = sorted(os.listdir(f'measures_pngs/{song_name}/final_measures'))\n",
    "\n",
    "print(f'ABC Measures: {abc_length}')\n",
    "print(f'PNG Measures: {png_length}')\n",
    "\n",
    "for i in range (max(abc_length, png_length)):\n",
    "    if i < min(abc_length, png_length):\n",
    "        img = mpimg.imread(f'measures_pngs/{song_name}/final_measures/{png_measures[i]}')\n",
    "        plt.imshow(img)\n",
    "        plt.title(png_measures[i])\n",
    "        plt.axis('off')\n",
    "        plt.show()\n",
    "        print(measure_dict[song_name][i])\n",
    "    elif i > abc_length:\n",
    "        img = mpimg.imread(f'measures_pngs/{song_name}/final_measures/{png_measures[i]}')\n",
    "        plt.imshow(img)\n",
    "        plt.title(png_measures[i])\n",
    "        plt.axis('off')\n",
    "        plt.show()\n",
    "        print(\"NO MORE ABC MEASURES\")\n",
    "    elif i > png_length:\n",
    "        print(\"NO MORE PNG MEASURES\")\n",
    "        print(measure_dict[song_name][i])\n",
    "    print()\n"
   ]
  },
  {
   "cell_type": "code",
   "execution_count": null,
   "metadata": {},
   "outputs": [],
   "source": []
  }
 ],
 "metadata": {
  "kernelspec": {
   "display_name": "ds",
   "language": "python",
   "name": "python3"
  },
  "language_info": {
   "codemirror_mode": {
    "name": "ipython",
    "version": 3
   },
   "file_extension": ".py",
   "mimetype": "text/x-python",
   "name": "python",
   "nbconvert_exporter": "python",
   "pygments_lexer": "ipython3",
   "version": "3.12.0"
  }
 },
 "nbformat": 4,
 "nbformat_minor": 2
}
